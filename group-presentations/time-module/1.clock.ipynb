{
 "cells": [
  {
   "cell_type": "markdown",
   "metadata": {},
   "source": [
    "#### Clock1"
   ]
  },
  {
   "cell_type": "code",
   "execution_count": 1,
   "metadata": {
    "collapsed": true
   },
   "outputs": [],
   "source": [
    "from turtle import *\n",
    "from datetime import datetime"
   ]
  },
  {
   "cell_type": "code",
   "execution_count": 2,
   "metadata": {
    "collapsed": true
   },
   "outputs": [],
   "source": [
    "def moving(distance, angle=0):\n",
    "    penup()\n",
    "    right(angle)\n",
    "    forward(distance)\n",
    "    left(angle)\n",
    "    pendown()"
   ]
  },
  {
   "cell_type": "code",
   "execution_count": 3,
   "metadata": {
    "collapsed": true
   },
   "outputs": [],
   "source": [
    "def layout(lenght, vast):\n",
    "    fd(lenght*1.5)\n",
    "    rt(90)\n",
    "    fd(vast/2.0)\n",
    "    lt(120)\n",
    "    fd(vast)\n",
    "    lt(120)\n",
    "    fd(vast/2.0)\n",
    "    lt(120)\n",
    "    fd(vast/2.0)"
   ]
  },
  {
   "cell_type": "code",
   "execution_count": 4,
   "metadata": {
    "collapsed": true
   },
   "outputs": [],
   "source": [
    "def timer_hands(name,lenght,vast):\n",
    "    reset()\n",
    "    moving(-lenght*0.15)\n",
    "    begin_poly()\n",
    "    layout(lenght, vast)\n",
    "    end_poly()\n",
    "    clock_labellings=get_poly()\n",
    "    register_shape(name,clock_labellings)"
   ]
  },
  {
   "cell_type": "code",
   "execution_count": 5,
   "metadata": {
    "collapsed": true
   },
   "outputs": [],
   "source": [
    "def clockface(radius):\n",
    "    reset()\n",
    "    pensize(7)\n",
    "    for i in range(60):\n",
    "        moving(radius)\n",
    "        if i % 5 ==0:\n",
    "            fd(25)\n",
    "            moving(-radius-25)\n",
    "        else:\n",
    "            dot(3)\n",
    "            moving(-radius)\n",
    "        rt(6)"
   ]
  },
  {
   "cell_type": "code",
   "execution_count": 6,
   "metadata": {
    "collapsed": true
   },
   "outputs": [],
   "source": [
    "def settings():\n",
    "    global second_hand, minute_hand, hour_hand\n",
    "    timer_hands(\"second_hand\", 125, 25)\n",
    "    timer_hands(\"minute_hand\", 130, 25)\n",
    "    timer_hands(\"hour_hand\", 90, 25)\n",
    "    clockface(160)\n",
    "    second_hand=Turtle()\n",
    "    second_hand.shape(\"second_hand\")\n",
    "    second_hand.color(\"gray40\",\"black\")\n",
    "    minute_hand=Turtle()\n",
    "    minute_hand.shape(\"minute_hand\")\n",
    "    minute_hand.color(\"red\",\"orange\")\n",
    "    hour_hand=Turtle()\n",
    "    hour_hand.shape(\"hour_hand\")\n",
    "    hour_hand.color(\"red\",\"orange\")\n",
    "    for hand in second_hand, minute_hand, hour_hand:\n",
    "        hand.resizemode(\"user\")\n",
    "        hand.shapesize(1,1,3)\n",
    "        hand.speed(0)\n",
    "    ht()"
   ]
  },
  {
   "cell_type": "code",
   "execution_count": 7,
   "metadata": {
    "collapsed": true
   },
   "outputs": [],
   "source": [
    "def tick():\n",
    "    t=datetime.today()                                      ## import the current time\n",
    "    secondTimer=t.second+t.microsecond*0.000001             ## get the current second\n",
    "    minute=t.minute+secondTimer/60.0                        ## get the current miunte\n",
    "    onTheHour=t.hour+minute/60.0                            ## get the current hour\n",
    "    try:\n",
    "        tracer(False)\n",
    "        second_hand.setheading(6*secondTimer)\n",
    "        minute_hand.setheading(6*minute)\n",
    "        hour_hand.setheading(30*onTheHour)\n",
    "        tracer(True)\n",
    "        ontimer(tick,100)\n",
    "    except Terminator:\n",
    "        pass\n",
    "    "
   ]
  },
  {
   "cell_type": "code",
   "execution_count": null,
   "metadata": {
    "collapsed": true
   },
   "outputs": [],
   "source": [
    "def main():\n",
    "    tracer(False)\n",
    "    settings()\n",
    "    tracer(True)\n",
    "    tick()\n",
    "    \n",
    "    return \"DONE\""
   ]
  },
  {
   "cell_type": "code",
   "execution_count": null,
   "metadata": {
    "collapsed": false
   },
   "outputs": [
    {
     "name": "stdout",
     "output_type": "stream",
     "text": [
      "DONE\n"
     ]
    }
   ],
   "source": [
    "if __name__ == \"__main__\":\n",
    "    mode(\"logo\")\n",
    "    msg=main()\n",
    "    print(msg)\n",
    "    mainloop()"
   ]
  },
  {
   "cell_type": "code",
   "execution_count": null,
   "metadata": {
    "collapsed": true
   },
   "outputs": [],
   "source": []
  }
 ],
 "metadata": {
  "anaconda-cloud": {},
  "kernelspec": {
   "display_name": "Python 2",
   "language": "python",
   "name": "python2"
  },
  "language_info": {
   "codemirror_mode": {
    "name": "ipython",
    "version": 2
   },
   "file_extension": ".py",
   "mimetype": "text/x-python",
   "name": "python",
   "nbconvert_exporter": "python",
   "pygments_lexer": "ipython2",
   "version": "2.7.11"
  },
  "widgets": {
   "state": {},
   "version": "1.1.2"
  }
 },
 "nbformat": 4,
 "nbformat_minor": 1
}
