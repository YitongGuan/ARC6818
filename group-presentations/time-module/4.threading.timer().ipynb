{
 "cells": [
  {
   "cell_type": "markdown",
   "metadata": {},
   "source": [
    "###  threading.timer()"
   ]
  },
  {
   "cell_type": "code",
   "execution_count": 1,
   "metadata": {
    "collapsed": false,
    "scrolled": true
   },
   "outputs": [
    {
     "name": "stdout",
     "output_type": "stream",
     "text": [
      "Countdown to New Year 2017 : 68 days, 9:02:05.911000\n",
      "Countdown to New Year 2017 : 68 days, 9:00:08.362000"
     ]
    }
   ],
   "source": [
    "import time,threading,sys                                                   # 1.import the library\n",
    "def timer():                                                                    \n",
    "    import datetime                                                         # 2.set functions (datetime.delta)\n",
    "    t1 = datetime.datetime.strptime('1,1,2017 00:00','%d,%m,%Y %H:%M')      ## set the time\n",
    "    t2 = datetime.datetime.now()                                            ## get the current time\n",
    "    t=t1-t2                                                                 ## get the datetime.delta\n",
    "    print \"\\rCountdown to New Year 2017 :\",t,                               ## print\n",
    "    sys.stdout.flush()                                                      ## clear the screen\n",
    "    threading.Timer(1,timer).start()                                        # 3. print the time at a regular time interval (1 second)\n",
    "timer()"
   ]
  },
  {
   "cell_type": "code",
   "execution_count": 2,
   "metadata": {
    "collapsed": false
   },
   "outputs": [
    {
     "name": "stdout",
     "output_type": "stream",
     "text": [
      "\n",
      "Countdown to New Year 2017 : 68 days, 8:59:03.045000"
     ]
    }
   ],
   "source": [
    "exit()\n"
   ]
  },
  {
   "cell_type": "code",
   "execution_count": null,
   "metadata": {
    "collapsed": true
   },
   "outputs": [],
   "source": []
  }
 ],
 "metadata": {
  "anaconda-cloud": {},
  "kernelspec": {
   "display_name": "Python 2",
   "language": "python",
   "name": "python2"
  },
  "language_info": {
   "codemirror_mode": {
    "name": "ipython",
    "version": 2
   },
   "file_extension": ".py",
   "mimetype": "text/x-python",
   "name": "python",
   "nbconvert_exporter": "python",
   "pygments_lexer": "ipython2",
   "version": "2.7.11"
  },
  "widgets": {
   "state": {},
   "version": "1.1.2"
  }
 },
 "nbformat": 4,
 "nbformat_minor": 1
}
