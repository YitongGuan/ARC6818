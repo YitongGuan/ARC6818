{
 "cells": [
  {
   "cell_type": "markdown",
   "metadata": {},
   "source": [
    "# Squares spiral\n"
   ]
  },
  {
   "cell_type": "code",
   "execution_count": null,
   "metadata": {
    "collapsed": true
   },
   "outputs": [],
   "source": []
  },
  {
   "cell_type": "code",
   "execution_count": 10,
   "metadata": {
    "collapsed": false
   },
   "outputs": [],
   "source": [
    "import turtle\n",
    "\n",
    "#set up the window and its attributes\n",
    "\n",
    "t = turtle.Turtle()\n",
    "wn = turtle.Screen()\n",
    "wn.title (\"squares spiral\")\n",
    "wn.bgcolor (\"lightgray\")\n",
    "\n",
    "#set up the pen type\n",
    "\n",
    "\n",
    "t.pensize(2)\n",
    "t.pencolor(\"darkred\")\n",
    "\n",
    "# draw the squarespiral(bigger and bigger by adding the length each time)\n",
    "\n",
    "def drawspiral(t,line):\n",
    "    if line < 300:\n",
    "        t.fd(line)\n",
    "        t.rt(93)\n",
    "        \n",
    "        drawspiral(t,line + 5)\n",
    "        \n",
    "drawspiral(t,5)\n",
    "\n",
    "\n",
    "wn.exitonclick()\n"
   ]
  },
  {
   "cell_type": "code",
   "execution_count": null,
   "metadata": {
    "collapsed": true
   },
   "outputs": [],
   "source": []
  }
 ],
 "metadata": {
  "anaconda-cloud": {},
  "kernelspec": {
   "display_name": "Python [P2712]",
   "language": "python",
   "name": "Python [P2712]"
  }
 },
 "nbformat": 4,
 "nbformat_minor": 1
}
