{
 "cells": [
  {
   "cell_type": "markdown",
   "metadata": {},
   "source": [
    "# Squares spiral\n"
   ]
  },
  {
   "cell_type": "code",
   "execution_count": null,
   "metadata": {
    "collapsed": true
   },
   "outputs": [],
   "source": []
  },
  {
   "cell_type": "code",
   "execution_count": 10,
   "metadata": {
    "collapsed": false
   },
   "outputs": [],
   "source": [
    "import turtle\n",
    "\n",
    "#set up the window and its attributes\n",
    "\n",
    "t = turtle.Turtle()\n",
    "wn = turtle.Screen()\n",
    "wn.title (\"squares spiral\")\n",
    "wn.bgcolor (\"lightgray\")\n",
    "\n",
    "#set up the pen type\n",
    "\n",
    "\n",
    "t.pensize(2)\n",
    "t.pencolor(\"darkred\")\n",
    "\n",
    "# draw the squarespiral(bigger and bigger by adding the length each time)\n",
    "\n",
    "def drawspiral(t,line):\n",
    "    if line < 300:\n",
    "        t.fd(line)\n",
    "        t.rt(93)\n",
    "        \n",
    "        drawspiral(t,line + 5)\n",
    "        \n",
    "drawspiral(t,5)\n",
    "\n",
    "\n",
    "wn.exitonclick()\n"
   ]
  },
  {
   "cell_type": "markdown",
   "metadata": {
    "collapsed": true
   },
   "source": [
    "![alt text](https://raw.githubusercontent.com/mmeagher/ARC6818/master/images/square-spiral.png \"Title\")"
   ]
  },
  {
   "cell_type": "code",
   "execution_count": null,
   "metadata": {
    "collapsed": true
   },
   "outputs": [],
   "source": []
  }
 ],
 "metadata": {
  "anaconda-cloud": {},
  "kernelspec": {
   "display_name": "Python 2",
   "language": "python",
   "name": "python2"
  },
  "language_info": {
   "codemirror_mode": {
    "name": "ipython",
    "version": 2
   },
   "file_extension": ".py",
   "mimetype": "text/x-python",
   "name": "python",
   "nbconvert_exporter": "python",
   "pygments_lexer": "ipython2",
   "version": "2.7.11"
  },
  "widgets": {
   "state": {},
   "version": "1.1.2"
  }
 },
 "nbformat": 4,
 "nbformat_minor": 1
}
