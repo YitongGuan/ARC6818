{
 "cells": [
  {
   "cell_type": "markdown",
   "metadata": {},
   "source": [
    "## Elements Of Computational Design"
   ]
  },
  {
   "cell_type": "markdown",
   "metadata": {},
   "source": [
    "### Assignment 1B:  Flower pattern from stars"
   ]
  },
  {
   "cell_type": "markdown",
   "metadata": {},
   "source": [
    "#### I am taking the simple star example given as the base point for arriving at the intended flower pattern."
   ]
  },
  {
   "cell_type": "markdown",
   "metadata": {},
   "source": [
    "#### As an extension of what I have learnt from my first example, I wish to achieve the above pattern through the use of a single turtle rather than multiple turtles."
   ]
  },
  {
   "cell_type": "markdown",
   "metadata": {},
   "source": [
    "![Imgur](http://i.imgur.com/XraYxPE.jpg?1)"
   ]
  },
  {
   "cell_type": "markdown",
   "metadata": {},
   "source": [
    "#### In order to achieve the above star from the movement of a single turtle, it has to turn in specific angles to achieve this. These angles are essentially the interior angles of the end vertices of a star."
   ]
  },
  {
   "cell_type": "markdown",
   "metadata": {},
   "source": [
    "![Imgur](http://i.imgur.com/dX6vT51.jpg?1)"
   ]
  },
  {
   "cell_type": "markdown",
   "metadata": {},
   "source": [
    "#### Reference: www.beatthegmat.com. The interior angles were worked out to be 36 degrees."
   ]
  },
  {
   "cell_type": "markdown",
   "metadata": {},
   "source": [
    "#### Now, to get the turtle in action."
   ]
  },
  {
   "cell_type": "code",
   "execution_count": 2,
   "metadata": {
    "collapsed": true
   },
   "outputs": [],
   "source": [
    "import turtle"
   ]
  },
  {
   "cell_type": "code",
   "execution_count": 3,
   "metadata": {
    "collapsed": true
   },
   "outputs": [],
   "source": [
    "k = turtle. Turtle()"
   ]
  },
  {
   "cell_type": "code",
   "execution_count": 4,
   "metadata": {
    "collapsed": true
   },
   "outputs": [],
   "source": [
    "for n in range (5):   # five vertices of the star.\n",
    "    k. fd(50)\n",
    "    k. left(36)       # taking the internal angle from above."
   ]
  },
  {
   "cell_type": "markdown",
   "metadata": {},
   "source": [
    "![Imgur](http://i.imgur.com/4YjTkCc.png)"
   ]
  },
  {
   "cell_type": "markdown",
   "metadata": {},
   "source": [
    "#### The turtle is moving differently, creating a polygon instead of the intended star. I think this is because the starting is with reference to the straight line = 180 degrees. Thus, the turtle is making acute angle turns towards the origin. Therefore, I will be trying with the following angle : 180 - 36 = 144 degrees, obtuse angle."
   ]
  },
  {
   "cell_type": "code",
   "execution_count": 5,
   "metadata": {
    "collapsed": true
   },
   "outputs": [],
   "source": [
    "k. clear()"
   ]
  },
  {
   "cell_type": "code",
   "execution_count": 6,
   "metadata": {
    "collapsed": true
   },
   "outputs": [],
   "source": [
    "k. reset()"
   ]
  },
  {
   "cell_type": "code",
   "execution_count": 7,
   "metadata": {
    "collapsed": true
   },
   "outputs": [],
   "source": [
    "for n in range (5):\n",
    "    k. fd(50)\n",
    "    k. left(144)"
   ]
  },
  {
   "cell_type": "markdown",
   "metadata": {},
   "source": [
    "![Imgur](http://i.imgur.com/ZNEd6qK.png)"
   ]
  },
  {
   "cell_type": "markdown",
   "metadata": {},
   "source": [
    "#### The desired outcome was achieved but, the star dimensions are too small. I would like to change the pencolor as well."
   ]
  },
  {
   "cell_type": "code",
   "execution_count": 14,
   "metadata": {
    "collapsed": true
   },
   "outputs": [],
   "source": [
    "k. clear()# Tried out a couple of colors (purple, lightblue and finally yellow) and cleared them using the same code!!"
   ]
  },
  {
   "cell_type": "code",
   "execution_count": 9,
   "metadata": {
    "collapsed": true
   },
   "outputs": [],
   "source": [
    "k. reset()"
   ]
  },
  {
   "cell_type": "code",
   "execution_count": 15,
   "metadata": {
    "collapsed": true
   },
   "outputs": [],
   "source": [
    "for n in range (5):\n",
    "    k. pencolor( 'yellow')\n",
    "    k. fd(200)\n",
    "    k. left(144)"
   ]
  },
  {
   "cell_type": "markdown",
   "metadata": {},
   "source": [
    "![Imgur](http://i.imgur.com/qg2WQj7.png)"
   ]
  },
  {
   "cell_type": "markdown",
   "metadata": {},
   "source": [
    "#### Now that I have created the base/ starting point for my flower pattern, I want to manipulate it in a way that it spirals around and creates intersecting geometry. "
   ]
  },
  {
   "cell_type": "code",
   "execution_count": 16,
   "metadata": {
    "collapsed": true
   },
   "outputs": [],
   "source": [
    "k. clear()"
   ]
  },
  {
   "cell_type": "code",
   "execution_count": 17,
   "metadata": {
    "collapsed": true
   },
   "outputs": [],
   "source": [
    "k. reset()"
   ]
  },
  {
   "cell_type": "code",
   "execution_count": 18,
   "metadata": {
    "collapsed": true
   },
   "outputs": [],
   "source": [
    "for n in range (20):             # Initial trial run with lesser dimensions - to understand the movement of the turtle\n",
    "    for m in range (5):          # Nesting two loops to displace the turtle along two axis\n",
    "        k. pencolor('yellow')\n",
    "        k. fd(50)\n",
    "        k. rt(144)\n",
    "    k. penup()\n",
    "    k. rt(10)\n",
    "    k. pendown()"
   ]
  },
  {
   "cell_type": "markdown",
   "metadata": {},
   "source": [
    "![Imgur](http://i.imgur.com/WLHUCL9.png)"
   ]
  },
  {
   "cell_type": "markdown",
   "metadata": {},
   "source": [
    "#### The desired outcome was not achieved. The turtle is essentially pivoted to the origin. Therefore, a proper spiral is not achieved."
   ]
  },
  {
   "cell_type": "code",
   "execution_count": 19,
   "metadata": {
    "collapsed": true
   },
   "outputs": [],
   "source": [
    "k. clear()"
   ]
  },
  {
   "cell_type": "code",
   "execution_count": 20,
   "metadata": {
    "collapsed": true
   },
   "outputs": [],
   "source": [
    "k. reset()"
   ]
  },
  {
   "cell_type": "code",
   "execution_count": 21,
   "metadata": {
    "collapsed": true
   },
   "outputs": [],
   "source": [
    "for n in range (20):             # Trial 2 with slightly greater dimension and more displacement\n",
    "    for m in range (5):\n",
    "        k. pencolor('yellow')\n",
    "        k. fd(100)\n",
    "        k. rt(144)\n",
    "    k. penup()\n",
    "    k. left(10)\n",
    "    k. fd(20)\n",
    "    k. pendown()"
   ]
  },
  {
   "cell_type": "markdown",
   "metadata": {},
   "source": [
    "![Imgur](http://i.imgur.com/RlQrYwQ.png)"
   ]
  },
  {
   "cell_type": "markdown",
   "metadata": {},
   "source": [
    "#### I managed to achieve greater displacement but, not the desired spiral movement!"
   ]
  },
  {
   "cell_type": "markdown",
   "metadata": {},
   "source": [
    "#### I am going to try creating a function. And since I will be missing the 1st hour of Monday's class on functions, I think this would be a good way to learn and apply the reading I have done on  http://openbookproject.net/thinkcs/python/english3e/functions.html."
   ]
  },
  {
   "cell_type": "markdown",
   "metadata": {},
   "source": [
    "## The syntax of functions:\n",
    "\n",
    "#### def   NAME( PARAMETERS ):\n",
    "    STATEMENTS\n",
    "#### I want to create a function called spiral which would essentially tell a geometry how many times to spiral, what angle to turn and how many steps to take- therefore, these would become the function's parameters and how it tells the turtles to move according to the parameters become it's statements."
   ]
  },
  {
   "cell_type": "code",
   "execution_count": 22,
   "metadata": {
    "collapsed": true
   },
   "outputs": [],
   "source": [
    "k. clear()"
   ]
  },
  {
   "cell_type": "code",
   "execution_count": 23,
   "metadata": {
    "collapsed": true
   },
   "outputs": [],
   "source": [
    "k. reset()"
   ]
  },
  {
   "cell_type": "code",
   "execution_count": 24,
   "metadata": {
    "collapsed": true
   },
   "outputs": [],
   "source": [
    "# Trial run for function\n",
    "def spiral (n, angle, step): # Defining the function \n",
    "    for step in range (n):   # statements of the function- creating a loop\n",
    "        k. fd(step)\n",
    "        k. rt(angle)\n",
    "        \n",
    "spiral (100, 144, 10)        # Taking the angle of the star "
   ]
  },
  {
   "cell_type": "markdown",
   "metadata": {},
   "source": [
    "![Imgur](http://i.imgur.com/KRI2m8f.png)"
   ]
  },
  {
   "cell_type": "markdown",
   "metadata": {},
   "source": [
    "#### Problems: The turtle is essentially creating bigger versions of the star but, there is no spiral created! I forgot to change the pencolor and the dimensions are very small!"
   ]
  },
  {
   "cell_type": "code",
   "execution_count": 25,
   "metadata": {
    "collapsed": true
   },
   "outputs": [],
   "source": [
    "k. clear()"
   ]
  },
  {
   "cell_type": "code",
   "execution_count": 26,
   "metadata": {
    "collapsed": true
   },
   "outputs": [],
   "source": [
    "spiral (200, 144, 50)"
   ]
  },
  {
   "cell_type": "markdown",
   "metadata": {},
   "source": [
    "#### The above code just made the star bigger, no difference from the previous one, other than in size."
   ]
  },
  {
   "cell_type": "code",
   "execution_count": 27,
   "metadata": {
    "collapsed": true
   },
   "outputs": [],
   "source": [
    "k. clear()"
   ]
  },
  {
   "cell_type": "code",
   "execution_count": 28,
   "metadata": {
    "collapsed": true
   },
   "outputs": [],
   "source": [
    "k. pencolor('yellow')"
   ]
  },
  {
   "cell_type": "code",
   "execution_count": 29,
   "metadata": {
    "collapsed": true
   },
   "outputs": [],
   "source": [
    "spiral (200, 145, 50)"
   ]
  },
  {
   "cell_type": "markdown",
   "metadata": {},
   "source": [
    "![Imgur](http://i.imgur.com/r41BbUD.png)"
   ]
  },
  {
   "cell_type": "markdown",
   "metadata": {},
   "source": [
    "### Achieved rotation - Angle is key!"
   ]
  },
  {
   "cell_type": "code",
   "execution_count": 30,
   "metadata": {
    "collapsed": true
   },
   "outputs": [],
   "source": [
    "k. clear()"
   ]
  },
  {
   "cell_type": "code",
   "execution_count": 31,
   "metadata": {
    "collapsed": true
   },
   "outputs": [],
   "source": [
    "k. reset()"
   ]
  },
  {
   "cell_type": "code",
   "execution_count": 32,
   "metadata": {
    "collapsed": true
   },
   "outputs": [],
   "source": [
    "k. pencolor('yellow')"
   ]
  },
  {
   "cell_type": "code",
   "execution_count": 33,
   "metadata": {
    "collapsed": true
   },
   "outputs": [],
   "source": [
    "# Increasing Step and Angle\n",
    "        \n",
    "spiral (200, 147, 200)"
   ]
  },
  {
   "cell_type": "code",
   "execution_count": 34,
   "metadata": {
    "collapsed": true
   },
   "outputs": [],
   "source": [
    "k. hideturtle()"
   ]
  },
  {
   "cell_type": "markdown",
   "metadata": {},
   "source": [
    "![Imgur](http://i.imgur.com/3PUH2WP.png)"
   ]
  },
  {
   "cell_type": "markdown",
   "metadata": {},
   "source": [
    "### The Desired pattern - intersecting geometry representing the petals of a flower, has been achieved using the basic star pattern."
   ]
  },
  {
   "cell_type": "markdown",
   "metadata": {},
   "source": [
    "#### References: http://openbookproject.net/thinkcs/python/english3e/hello_little_turtles.html and http://openbookproject.net/thinkcs/python/english3e/functions.html"
   ]
  },
  {
   "cell_type": "code",
   "execution_count": null,
   "metadata": {
    "collapsed": true
   },
   "outputs": [],
   "source": []
  }
 ],
 "metadata": {
  "anaconda-cloud": {},
  "kernelspec": {
   "display_name": "Python [P2712]",
   "language": "python",
   "name": "Python [P2712]"
  },
  "language_info": {
   "codemirror_mode": {
    "name": "ipython",
    "version": 2
   },
   "file_extension": ".py",
   "mimetype": "text/x-python",
   "name": "python",
   "nbconvert_exporter": "python",
   "pygments_lexer": "ipython2",
   "version": "2.7.12"
  }
 },
 "nbformat": 4,
 "nbformat_minor": 1
}
