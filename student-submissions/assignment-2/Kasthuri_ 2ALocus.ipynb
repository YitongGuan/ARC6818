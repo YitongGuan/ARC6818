{
 "cells": [
  {
   "cell_type": "markdown",
   "metadata": {},
   "source": [
    "### Elements of Computational Design"
   ]
  },
  {
   "cell_type": "markdown",
   "metadata": {},
   "source": [
    "#### Short Assignment 2"
   ]
  },
  {
   "cell_type": "markdown",
   "metadata": {},
   "source": [
    "* A- locus of turtles "
   ]
  },
  {
   "cell_type": "markdown",
   "metadata": {},
   "source": [
    "Intention is to create a random number of circles that gravitate towards or away from the origin (0,0) to create a equidistant locus of points therefore, creating a circle."
   ]
  },
  {
   "cell_type": "code",
   "execution_count": 1,
   "metadata": {
    "collapsed": true
   },
   "outputs": [],
   "source": [
    "import turtle"
   ]
  },
  {
   "cell_type": "code",
   "execution_count": 2,
   "metadata": {
    "collapsed": true
   },
   "outputs": [],
   "source": [
    "# To allow random orientation of the turtles\n",
    "import random"
   ]
  },
  {
   "cell_type": "code",
   "execution_count": 3,
   "metadata": {
    "collapsed": true
   },
   "outputs": [],
   "source": [
    "# To create multiple turtles at once\n",
    "\n",
    "numTurtles = 100 #Setting the limit on the number of random turtles created \n",
    "\n",
    "turtles = []     #making the turtles into a list\n",
    "for n in range(numTurtles):\n",
    "    turtles. append(turtle.Turtle()) # appending each random turtle created to the list "
   ]
  },
  {
   "cell_type": "markdown",
   "metadata": {},
   "source": [
    "![Imgur](http://i.imgur.com/Coel1YS.png)\n"
   ]
  },
  {
   "cell_type": "markdown",
   "metadata": {},
   "source": [
    "Only one turtle is visible but, I assume all the turtles have been created at the origin, so their position and orientation need to be configured for each individual one to be visible."
   ]
  },
  {
   "cell_type": "code",
   "execution_count": 4,
   "metadata": {
    "collapsed": true
   },
   "outputs": [],
   "source": [
    "# Creating a function to orient the turtles starting point\n",
    "def startpoint():\n",
    "    for turtle in turtles:\n",
    "        turtle. penup()\n",
    "        turtle. speed(10)\n",
    "        # Assigning a random range of values for the x and y co-ordinate of the turtle\n",
    "        turtle. setposition(random.randrange(-350, 350), random.randrange(-350,350))"
   ]
  },
  {
   "cell_type": "code",
   "execution_count": 5,
   "metadata": {
    "collapsed": true
   },
   "outputs": [],
   "source": [
    "startpoint() # Testing out the function"
   ]
  },
  {
   "cell_type": "markdown",
   "metadata": {},
   "source": [
    "![Imgur](http://i.imgur.com/ReFBJdH.png)"
   ]
  },
  {
   "cell_type": "markdown",
   "metadata": {},
   "source": [
    "The required number of random turtles have been created but, they are all oriented in the same direction!"
   ]
  },
  {
   "cell_type": "code",
   "execution_count": 6,
   "metadata": {
    "collapsed": true
   },
   "outputs": [],
   "source": [
    "# exiting the previous kernel\n",
    "exit()"
   ]
  },
  {
   "cell_type": "code",
   "execution_count": 1,
   "metadata": {
    "collapsed": true
   },
   "outputs": [],
   "source": [
    "# Taking the working codes from above\n",
    "import turtle\n",
    "import random\n",
    "\n",
    "# To create multiple turtles at once\n",
    "\n",
    "numTurtles = 100 #Setting the limit on the number of random turtles created \n",
    "\n",
    "turtles = []     #making the turtles into a list\n",
    "for n in range(numTurtles):\n",
    "    turtles. append(turtle.Turtle()) # appending each random turtle created to the list "
   ]
  },
  {
   "cell_type": "code",
   "execution_count": 2,
   "metadata": {
    "collapsed": true
   },
   "outputs": [],
   "source": [
    "# Creating a function to orient the turtles starting point\n",
    "def startpoint():\n",
    "    for turtle in turtles:\n",
    "        turtle. penup()\n",
    "        turtle. speed(10)\n",
    "        # Assigning a random range of values for the x and y co-ordinate of the turtle\n",
    "        turtle. setposition(random.randrange(-350, 350), random.randrange(-350,350))\n",
    "        difference = turtle.towards(0,0) # Finding the orientation difference to the origin\n",
    "        turtle. right(360 - difference)  # Turning towards the origin by subtracting the difference from the whole angle"
   ]
  },
  {
   "cell_type": "code",
   "execution_count": 3,
   "metadata": {
    "collapsed": true
   },
   "outputs": [],
   "source": [
    "startpoint()"
   ]
  },
  {
   "cell_type": "markdown",
   "metadata": {},
   "source": [
    "The turtles are now oriented towards the centre."
   ]
  },
  {
   "cell_type": "markdown",
   "metadata": {},
   "source": [
    "![Imgur](http://i.imgur.com/d6IHaVH.png)"
   ]
  },
  {
   "cell_type": "code",
   "execution_count": 4,
   "metadata": {
    "collapsed": true
   },
   "outputs": [],
   "source": [
    "# Now to define a function that will make them arrange themselves equidistant from the origin(0,0)\n",
    "\n",
    "def locus():\n",
    "    for turtle in turtles:\n",
    "        distance = turtle. distance(0,0) # evaluating the distance from the origin to each turtle\n",
    "        if distance >= 200:              # setting conditions for the turtle to move forward or backward based on position- also setting radius of circle as 200\n",
    "            turtle.forward(5)\n",
    "        else:\n",
    "            turtle.backward(5)"
   ]
  },
  {
   "cell_type": "code",
   "execution_count": 5,
   "metadata": {
    "collapsed": true
   },
   "outputs": [],
   "source": [
    "locus()"
   ]
  },
  {
   "cell_type": "markdown",
   "metadata": {},
   "source": [
    "Something seems wrong... The turtles moved only once(either backward or forward)!"
   ]
  },
  {
   "cell_type": "markdown",
   "metadata": {},
   "source": [
    "![Imgur](http://i.imgur.com/0dzb8ei.png)"
   ]
  },
  {
   "cell_type": "code",
   "execution_count": 6,
   "metadata": {
    "collapsed": true
   },
   "outputs": [],
   "source": [
    "# introducting a for loop to continue the process\n",
    "\n",
    "for i in range(100):\n",
    "    locus()"
   ]
  },
  {
   "cell_type": "markdown",
   "metadata": {},
   "source": [
    "![Imgur](http://i.imgur.com/RGQoj7h.png)"
   ]
  },
  {
   "cell_type": "markdown",
   "metadata": {},
   "source": [
    "#### The desired output is achieved however, I don't feel introducing the for loop is the NOT the best way to do it as the turtles are still moving despite forming the circle :(\n"
   ]
  },
  {
   "cell_type": "markdown",
   "metadata": {
    "collapsed": true
   },
   "source": [
    "Googled how to run a function infinitely"
   ]
  },
  {
   "cell_type": "code",
   "execution_count": null,
   "metadata": {
    "collapsed": true
   },
   "outputs": [],
   "source": [
    "# This code runs the function in an infinite loop\n",
    "\n",
    "while True:\n",
    "    locus()"
   ]
  }
 ],
 "metadata": {
  "anaconda-cloud": {},
  "kernelspec": {
   "display_name": "Python 2",
   "language": "python",
   "name": "python2"
  },
  "language_info": {
   "codemirror_mode": {
    "name": "ipython",
    "version": 2
   },
   "file_extension": ".py",
   "mimetype": "text/x-python",
   "name": "python",
   "nbconvert_exporter": "python",
   "pygments_lexer": "ipython2",
   "version": "2.7.11"
  },
  "widgets": {
   "state": {},
   "version": "1.1.2"
  }
 },
 "nbformat": 4,
 "nbformat_minor": 1
}
