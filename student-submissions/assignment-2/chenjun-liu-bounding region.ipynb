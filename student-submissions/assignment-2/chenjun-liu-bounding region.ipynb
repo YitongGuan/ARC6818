{
 "cells": [
  {
   "cell_type": "markdown",
   "metadata": {},
   "source": [
    "## Introduce a bounding region (or multiple bounding regions) within which the randomly moving turtles are confined."
   ]
  },
  {
   "cell_type": "code",
   "execution_count": null,
   "metadata": {
    "collapsed": true
   },
   "outputs": [],
   "source": [
    "import turtle \n",
    "import random \n",
    "\n",
    "# set the screen information\n",
    "turtle.screensize(600,600)\n",
    "turtle.setworldcoordinates(0,0,600,600)\n",
    "mypen = turtle.Turtle() \n",
    "\n",
    "#draw the bounding region \n",
    "mypen.penup() \n",
    "mypen.setposition(100,100) \n",
    "mypen.pendown() \n",
    "mypen.pensize(3) \n",
    "for side in range(4): \n",
    "    mypen.fd(400) \n",
    "    mypen.lt(90) \n",
    "    mypen.pendown\n",
    "mypen.penup() \n",
    "mypen.setposition(250,250) \n",
    "mypen.pendown() \n",
    "mypen.pensize(3) \n",
    "for side in range(4): \n",
    "    mypen.fd(100) \n",
    "    mypen.lt(90) \n",
    "    mypen.pendown\n",
    "mypen.hideturtle()\n",
    "\n",
    "\n",
    "#set a random start point that forward in a random direction.\n",
    "player = turtle.Turtle() \n",
    "player.penup() \n",
    "player.pencolor(\"red\") \n",
    "player.setpos(random.randrange(350,500),random.randrange(350,500))\n",
    "directions = [90, 210, 300]\n",
    "player.pendown()\n",
    "player.setheading(random.choice(directions))\n",
    "speed = 4\n",
    "while True:\n",
    "    player.fd(speed)\n",
    "    # change the direction if the point touch the boundary\n",
    "    if (player.xcor()<=100) or (player.xcor()>=500) or((player.xcor()>=250)and(player.xcor()<=350)and(player.ycor()>=250)and(player.ycor()<=350)):\n",
    "        player.rt(random.randrange(40,60)\n",
    "    elif (player.ycor()<=100) or (player.ycor()>=500) or((player.xcor()>=250)and(player.xcor()<=350)and(player.ycor()>=250)and(player.ycor()<=350)):\n",
    "        player.rt(random.randrange(40,60))"
   ]
  },
  {
   "cell_type": "markdown",
   "metadata": {},
   "source": [
    "![1](https://scontent-lhr3-1.xx.fbcdn.net/t31.0-8/14708062_198179293957813_7655103213803554519_o.jpg)"
   ]
  },
  {
   "cell_type": "markdown",
   "metadata": {},
   "source": [
    "## but you can see there are some mistakes when the point touch the boundary, even it will become a bug that rotate forever"
   ]
  },
  {
   "cell_type": "markdown",
   "metadata": {},
   "source": [
    "## so I want to correct the bug by control the speed and angle of the moving action"
   ]
  },
  {
   "cell_type": "code",
   "execution_count": null,
   "metadata": {
    "collapsed": true
   },
   "outputs": [],
   "source": [
    "import turtle \n",
    "import random \n",
    "\n",
    "# set the screen information\n",
    "turtle.screensize(600,600)\n",
    "turtle.setworldcoordinates(0,0,600,600)\n",
    "mypen = turtle.Turtle() \n",
    "\n",
    "#draw the bounding region \n",
    "mypen.penup() \n",
    "mypen.setposition(100,100) \n",
    "mypen.pendown() \n",
    "mypen.pensize(3) \n",
    "for side in range(4): \n",
    "    mypen.fd(400) \n",
    "    mypen.lt(90) \n",
    "    mypen.pendown\n",
    "mypen.penup() \n",
    "mypen.setposition(250,250) \n",
    "mypen.pendown() \n",
    "mypen.pensize(3) \n",
    "for side in range(4): \n",
    "    mypen.fd(100) \n",
    "    mypen.lt(90) \n",
    "    mypen.pendown\n",
    "mypen.hideturtle()\n",
    "\n",
    "\n",
    "#set a random start point that forward in a random direction.\n",
    "player = turtle.Turtle() \n",
    "player.penup() \n",
    "player.pencolor(\"red\") \n",
    "player.setpos(random.randrange(350,500),random.randrange(350,500))\n",
    "directions = [90, 210, 300]\n",
    "player.pendown()\n",
    "player.setheading(random.choice(directions))\n",
    "speed = 1\n",
    "while True:\n",
    "    player.fd(speed)\n",
    "    # change the direction if the point touch the boundary\n",
    "    if (player.xcor()<=100) or (player.xcor()>=500) or((player.xcor()>=250)and(player.xcor()<=350)and(player.ycor()>=250)and(player.ycor()<=350)):\n",
    "        player.rt(random.randrange(160,200)\n",
    "    elif (player.ycor()<=100) or (player.ycor()>=500) or((player.xcor()>=250)and(player.xcor()<=350)and(player.ycor()>=250)and(player.ycor()<=350)):\n",
    "        player.rt(random.randrange(160,200))"
   ]
  },
  {
   "cell_type": "markdown",
   "metadata": {},
   "source": [
    "![2](https://scontent-lhr3-1.xx.fbcdn.net/t31.0-8/14615581_198179100624499_2262215900286417056_o.jpg)"
   ]
  },
  {
   "cell_type": "markdown",
   "metadata": {},
   "source": [
    "## but i think it only reduece the possibility of the bug, but remove it. Because I do not change the direction in the reflex angle."
   ]
  },
  {
   "cell_type": "code",
   "execution_count": null,
   "metadata": {
    "collapsed": true
   },
   "outputs": [],
   "source": []
  }
 ],
 "metadata": {
  "kernelspec": {
   "display_name": "Python 2",
   "language": "python",
   "name": "python2"
  },
  "language_info": {
   "codemirror_mode": {
    "name": "ipython",
    "version": 2
   },
   "file_extension": ".py",
   "mimetype": "text/x-python",
   "name": "python",
   "nbconvert_exporter": "python",
   "pygments_lexer": "ipython2",
   "version": "2.7.11"
  },
  "widgets": {
   "state": {},
   "version": "1.1.2"
  }
 },
 "nbformat": 4,
 "nbformat_minor": 1
}
