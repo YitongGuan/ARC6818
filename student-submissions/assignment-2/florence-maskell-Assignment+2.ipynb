{
 "cells": [
  {
   "cell_type": "markdown",
   "metadata": {},
   "source": [
    "## Assignment 2 - Turtle fuctions"
   ]
  },
  {
   "cell_type": "markdown",
   "metadata": {},
   "source": [
    "#### Function 1 - 'Scatter'"
   ]
  },
  {
   "cell_type": "code",
   "execution_count": 1,
   "metadata": {
    "collapsed": false
   },
   "outputs": [],
   "source": [
    "import turtle\n",
    "import random\n",
    "Billy=turtle.Turtle()\n",
    "turtle.screensize(600,600)\n",
    "billyPos= [x for x in range (600)]\n",
    "billyColor= ['red', 'blue', 'green', 'yellow', 'orange', 'purple']\n",
    "Billy.color(random.choice(billyColor))\n",
    "Billy.goto((random.choice(billyPos)),(random.choice(billyPos)))\n"
   ]
  },
  {
   "cell_type": "markdown",
   "metadata": {},
   "source": [
    "![Image](https://cloud.githubusercontent.com/assets/22890907/19626874/e777317a-9932-11e6-8ab0-fd389af74732.jpg)"
   ]
  },
  {
   "cell_type": "markdown",
   "metadata": {},
   "source": [
    "#### After trying the basic setup functions I decided to adjust the position range, set the screen coordinates and use the penup command to prevent the line and other issues that were created before. "
   ]
  },
  {
   "cell_type": "code",
   "execution_count": 7,
   "metadata": {
    "collapsed": true
   },
   "outputs": [],
   "source": [
    "import turtle\n",
    "import random\n",
    "Billy=turtle.Turtle()\n",
    "turtle.screensize(600,600)\n",
    "turtle.setworldcoordinates(0,0,600,600)\n",
    "billyPos= [x for x in range (550)]\n",
    "billyColor= ['red', 'blue', 'green', 'yellow', 'orange', 'purple']\n",
    "Billy.color(random.choice(billyColor))\n",
    "Billy.penup()\n",
    "Billy.goto((random.choice(billyPos)),(random.choice(billyPos)))"
   ]
  },
  {
   "cell_type": "markdown",
   "metadata": {},
   "source": [
    "![Image](https://cloud.githubusercontent.com/assets/22890907/19626878/e782baea-9932-11e6-9ae0-fe12bcc6c77d.jpg) "
   ]
  },
  {
   "cell_type": "code",
   "execution_count": 8,
   "metadata": {
    "collapsed": false
   },
   "outputs": [],
   "source": [
    "ang=Billy.towards(300,300)"
   ]
  },
  {
   "cell_type": "code",
   "execution_count": 9,
   "metadata": {
    "collapsed": false
   },
   "outputs": [
    {
     "name": "stdout",
     "output_type": "stream",
     "text": [
      "185.492324557\n"
     ]
    }
   ],
   "source": [
    "print(ang)"
   ]
  },
  {
   "cell_type": "code",
   "execution_count": 14,
   "metadata": {
    "collapsed": true
   },
   "outputs": [],
   "source": [
    "Billy.rt(ang+180)"
   ]
  },
  {
   "cell_type": "code",
   "execution_count": 16,
   "metadata": {
    "collapsed": false
   },
   "outputs": [],
   "source": [
    "Billy.pendown()\n",
    "Billy.fd(400)"
   ]
  },
  {
   "cell_type": "markdown",
   "metadata": {},
   "source": [
    "#### Now this is all set I will create the function"
   ]
  },
  {
   "cell_type": "code",
   "execution_count": 1,
   "metadata": {
    "collapsed": true
   },
   "outputs": [],
   "source": [
    "def Scatter(myTurtle, distance, home):\n",
    "    ang = myTurtle.towards(home)\n",
    "    myTurtle.lt(ang+180)\n",
    "    myTurtle.pendown()\n",
    "    myTurtle.fd(distance)"
   ]
  },
  {
   "cell_type": "code",
   "execution_count": null,
   "metadata": {
    "collapsed": false
   },
   "outputs": [],
   "source": [
    "import turtle\n",
    "import random\n",
    "\n",
    "turtle.screensize(600,600)\n",
    "turtle.setworldcoordinates(0,0,600,600)\n",
    "numTurtles = 20\n",
    "turtles = []\n",
    "myTurtlePos = [x for x in range (550)]\n",
    "myTurtleColor = ['red', 'blue', 'green', 'yellow', 'orange', 'purple']\n",
    "distance = 20\n",
    "home = (300,300)\n",
    "\n",
    "\n",
    "for x in range(numTurtles):\n",
    "    Billy = turtle.Turtle()\n",
    "    turtles.append(Billy)\n",
    "    Billy.shape(\"turtle\")\n",
    "    Billy.speed(2)\n",
    "    Billy.color(random.choice(myTurtleColor))\n",
    "    Billy.penup()\n",
    "    Billy.setpos((random.choice(myTurtlePos)),(random.choice(myTurtlePos)))\n",
    "for count in range(100):\n",
    "        for myTurtle in turtles:\n",
    "            Scatter(myTurtle, distance, home)"
   ]
  },
  {
   "cell_type": "markdown",
   "metadata": {},
   "source": [
    "![Image](https://cloud.githubusercontent.com/assets/22890907/19626880/e7a481e8-9932-11e6-9619-88da328e61a8.jpg)"
   ]
  },
  {
   "cell_type": "markdown",
   "metadata": {},
   "source": [
    "![Image](https://cloud.githubusercontent.com/assets/22890907/19626879/e78b0862-9932-11e6-9b78-6942e12c49b9.jpg)"
   ]
  },
  {
   "cell_type": "markdown",
   "metadata": {},
   "source": [
    "#### This has not created the desired effect, as they are not turning away from the center so I will work on that next."
   ]
  },
  {
   "cell_type": "code",
   "execution_count": 1,
   "metadata": {
    "collapsed": true
   },
   "outputs": [],
   "source": [
    "def Scatter(myTurtle, distance, home):\n",
    "    ang = myTurtle.towards(home)\n",
    "    myTurtle.lt(ang+180-myTurtle.heading())\n",
    "    myTurtle.pendown()\n",
    "    myTurtle.fd(distance)"
   ]
  },
  {
   "cell_type": "code",
   "execution_count": null,
   "metadata": {
    "collapsed": true
   },
   "outputs": [],
   "source": [
    "import turtle\n",
    "import random\n",
    "\n",
    "turtle.screensize(600,600)\n",
    "turtle.setworldcoordinates(0,0,600,600)\n",
    "numTurtles = 20\n",
    "turtles = []\n",
    "myTurtlePos = [x for x in range (550)]\n",
    "myTurtleColor = ['red', 'blue', 'green', 'yellow', 'orange', 'purple']\n",
    "distance = 20\n",
    "home = (300,300)\n",
    "\n",
    "\n",
    "for x in range(numTurtles):\n",
    "    Billy = turtle.Turtle()\n",
    "    turtles.append(Billy)\n",
    "    Billy.shape(\"turtle\")\n",
    "    Billy.speed(2)\n",
    "    Billy.color(random.choice(myTurtleColor))\n",
    "    Billy.penup()\n",
    "    Billy.setpos((random.choice(myTurtlePos)),(random.choice(myTurtlePos)))\n",
    "for count in range(100):\n",
    "        for myTurtle in turtles:\n",
    "            Scatter(myTurtle, distance, home)"
   ]
  },
  {
   "cell_type": "markdown",
   "metadata": {},
   "source": [
    "![Image](https://cloud.githubusercontent.com/assets/22890907/19626881/e7a91082-9932-11e6-89c5-e5816afc6b24.jpg)"
   ]
  },
  {
   "cell_type": "markdown",
   "metadata": {},
   "source": [
    "![Image](https://cloud.githubusercontent.com/assets/22890907/19626882/e7aefcf4-9932-11e6-962b-a150c1394d0c.jpg)"
   ]
  },
  {
   "cell_type": "markdown",
   "metadata": {},
   "source": [
    "#### This has had the desired effect but  to improve it I will decrease the distance moved each time."
   ]
  },
  {
   "cell_type": "code",
   "execution_count": 2,
   "metadata": {
    "collapsed": true
   },
   "outputs": [],
   "source": [
    "import turtle\n",
    "import random\n",
    "\n",
    "turtle.screensize(600,600)\n",
    "turtle.setworldcoordinates(0,0,600,600)\n",
    "numTurtles = 40\n",
    "turtles = []\n",
    "myTurtlePos = [x for x in range (550)]\n",
    "myTurtleColor = ['red', 'blue', 'green', 'yellow', 'orange', 'purple']\n",
    "distance = 5\n",
    "home = (300,300)\n",
    "\n",
    "\n",
    "for x in range(numTurtles):\n",
    "    Billy = turtle.Turtle()\n",
    "    turtles.append(Billy)\n",
    "    Billy.shape(\"turtle\")\n",
    "    Billy.speed(0)\n",
    "    Billy.color(random.choice(myTurtleColor))\n",
    "    Billy.penup()\n",
    "    Billy.setpos((random.choice(myTurtlePos)),(random.choice(myTurtlePos)))\n",
    "for count in range(100):\n",
    "        for myTurtle in turtles:\n",
    "            Scatter(myTurtle, distance, home)"
   ]
  },
  {
   "cell_type": "markdown",
   "metadata": {},
   "source": [
    "### Function 2 - Run-away"
   ]
  },
  {
   "cell_type": "markdown",
   "metadata": {},
   "source": [
    "#### For this function I will use lines of code to scatter the block turtles, but will then create one red turtle which will randomly navigate through the others."
   ]
  },
  {
   "cell_type": "code",
   "execution_count": 1,
   "metadata": {
    "collapsed": false
   },
   "outputs": [],
   "source": [
    "import turtle\n",
    "import random\n",
    "\n",
    "numBlocks = 60\n",
    "turtle.screensize(800,800)\n",
    "turtle.setworldcoordinates(0,0,800,800)\n",
    "Blocks = []\n",
    "BlockPos = [x for x in range (800)]\n",
    "\n",
    "\n",
    "for x in range(numBlocks):\n",
    "    B = turtle.Turtle()\n",
    "    Blocks.append(B)\n",
    "    B.shape(\"square\")\n",
    "    B.speed(0)\n",
    "    B.color('black')\n",
    "    B.shapesize(0.5, 0.5, 0.5)\n",
    "    B.penup()\n",
    "    B.setpos((random.choice(BlockPos)),(random.choice(BlockPos)))\n"
   ]
  },
  {
   "cell_type": "markdown",
   "metadata": {},
   "source": [
    "![Image](https://cloud.githubusercontent.com/assets/22890907/19626875/e77a2c04-9932-11e6-8172-f211d46726af.jpg)"
   ]
  },
  {
   "cell_type": "code",
   "execution_count": 2,
   "metadata": {
    "collapsed": true
   },
   "outputs": [],
   "source": [
    "def RunAway(distance):\n",
    "    Billy = turtle.Turtle()\n",
    "    Billy.shape(\"turtle\")\n",
    "    Billy.color(\"green\")\n",
    "    Billy.speed(0)\n",
    "    ang=[x*5 for x in range(71)]\n",
    "    Billy.pendown()\n",
    "    if Billy.distance(B)<distance:\n",
    "        Billy.color(\"red\")\n",
    "        Billy.lt(random.choice(ang))\n",
    "        Billy.fd(distance)  \n",
    "    else:\n",
    "        Billy.color(\"green\")\n",
    "        Billy.fd(distance)"
   ]
  },
  {
   "cell_type": "code",
   "execution_count": 4,
   "metadata": {
    "collapsed": false
   },
   "outputs": [],
   "source": [
    "maxSteps = 100\n",
    "distance = 20\n",
    "for count in range(maxSteps):\n",
    "    RunAway(distance)"
   ]
  },
  {
   "cell_type": "markdown",
   "metadata": {},
   "source": [
    "#### I want the turtle billy to appear in the center so I will set the position at the start, I will also take the creation of billy out of the function so that I can then loop the function."
   ]
  },
  {
   "cell_type": "code",
   "execution_count": 2,
   "metadata": {
    "collapsed": true
   },
   "outputs": [],
   "source": [
    "def RunAway(Billy, distance):\n",
    "    ang=[x*5 for x in range(71)]\n",
    "    Billy.pendown()\n",
    "    if Billy.distance(B)<distance:\n",
    "        Billy.color(\"red\")\n",
    "        Billy.lt(random.choice(ang))\n",
    "        Billy.fd(distance)  \n",
    "    else:\n",
    "        Billy.color(\"green\")\n",
    "        Billy.fd(distance)"
   ]
  },
  {
   "cell_type": "code",
   "execution_count": 3,
   "metadata": {
    "collapsed": false
   },
   "outputs": [],
   "source": [
    "Billy = turtle.Turtle()\n",
    "Billy.shape(\"turtle\")\n",
    "Billy.color(\"green\")\n",
    "Billy.speed(0)\n",
    "Billy.penup()\n",
    "Billy.setpos(400,400)"
   ]
  },
  {
   "cell_type": "code",
   "execution_count": 4,
   "metadata": {
    "collapsed": true
   },
   "outputs": [],
   "source": [
    "maxSteps = 100\n",
    "distance = 20\n",
    "for count in range(maxSteps):\n",
    "    RunAway(Billy, distance)"
   ]
  },
  {
   "cell_type": "markdown",
   "metadata": {},
   "source": [
    "![Image](https://cloud.githubusercontent.com/assets/22890907/19626876/e77c76ee-9932-11e6-89c8-32fe9d339c30.jpg)"
   ]
  },
  {
   "cell_type": "markdown",
   "metadata": {},
   "source": [
    "#### The if statement doesn't seem to be working, so I will give the function the blocks  "
   ]
  },
  {
   "cell_type": "code",
   "execution_count": 2,
   "metadata": {
    "collapsed": true
   },
   "outputs": [],
   "source": [
    "def RunAway(Billy, distance, Blocks):\n",
    "    ang=[x*5 for x in range(71)]\n",
    "    Billy.pendown()\n",
    "    if (Billy.distance(B)<distance):\n",
    "        Billy.color(\"red\")\n",
    "        Billy.lt(random.choice(ang))\n",
    "        Billy.fd(distance)  \n",
    "    else:\n",
    "        Billy.color(\"green\")\n",
    "        Billy.fd(distance)"
   ]
  },
  {
   "cell_type": "code",
   "execution_count": 3,
   "metadata": {
    "collapsed": true
   },
   "outputs": [],
   "source": [
    "Billy = turtle.Turtle()\n",
    "Billy.shape(\"turtle\")\n",
    "Billy.color(\"green\")\n",
    "Billy.speed(0)\n",
    "Billy.penup()\n",
    "Billy.setpos(400,400)"
   ]
  },
  {
   "cell_type": "code",
   "execution_count": 4,
   "metadata": {
    "collapsed": false
   },
   "outputs": [],
   "source": [
    "maxSteps = 100\n",
    "distance = 20\n",
    "for count in range(maxSteps):\n",
    "    RunAway(Billy, distance, Blocks)"
   ]
  },
  {
   "cell_type": "markdown",
   "metadata": {},
   "source": [
    "#### I will change the if statement by creating a variable which has any blocks that are within the distance, as the 'B' variables would dissapear at the end of that creation loop."
   ]
  },
  {
   "cell_type": "markdown",
   "metadata": {},
   "source": [
    "![Image](https://cloud.githubusercontent.com/assets/22890907/19626877/e77effa4-9932-11e6-83e9-b01d007cbe75.jpg)"
   ]
  },
  {
   "cell_type": "markdown",
   "metadata": {},
   "source": [
    "### Final code:"
   ]
  },
  {
   "cell_type": "code",
   "execution_count": 1,
   "metadata": {
    "collapsed": true
   },
   "outputs": [],
   "source": [
    "import turtle\n",
    "import random\n",
    "\n",
    "numBlocks = 60\n",
    "turtle.screensize(800,800)\n",
    "turtle.setworldcoordinates(0,0,800,800)\n",
    "Blocks = []\n",
    "BlockPos = [x for x in range (800)]\n",
    "\n",
    "\n",
    "for x in range(numBlocks):\n",
    "    B = turtle.Turtle()\n",
    "    Blocks.append(B)\n",
    "    B.shape(\"square\")\n",
    "    B.speed(0)\n",
    "    B.color('black')\n",
    "    B.shapesize(0.5, 0.5, 0.5)\n",
    "    B.penup()\n",
    "    B.setpos((random.choice(BlockPos)),(random.choice(BlockPos)))\n"
   ]
  },
  {
   "cell_type": "code",
   "execution_count": 2,
   "metadata": {
    "collapsed": true
   },
   "outputs": [],
   "source": [
    "def RunAway(Billy, distance, Blocks):\n",
    "    ang=[x*5 for x in range(71)]\n",
    "    Billy.pendown()\n",
    "    in_range = []\n",
    "    for b in Blocks:\n",
    "        b_in_range = Billy.distance(b) < distance\n",
    "        in_range.append(b_in_range)\n",
    "    if any(in_range):\n",
    "        Billy.color(\"red\")\n",
    "        Billy.lt(random.choice(ang))\n",
    "        Billy.fd(10)  \n",
    "    else:\n",
    "        Billy.color(\"green\")\n",
    "        Billy.fd(10)"
   ]
  },
  {
   "cell_type": "code",
   "execution_count": 3,
   "metadata": {
    "collapsed": true
   },
   "outputs": [],
   "source": [
    "Billy = turtle.Turtle()\n",
    "Billy.shape(\"turtle\")\n",
    "Billy.color(\"green\")\n",
    "Billy.speed(0)\n",
    "Billy.penup()\n",
    "Billy.setpos(400,400)"
   ]
  },
  {
   "cell_type": "code",
   "execution_count": 4,
   "metadata": {
    "collapsed": true
   },
   "outputs": [],
   "source": [
    "maxSteps = 1000\n",
    "distance = 40\n",
    "for count in range(maxSteps):\n",
    "    RunAway(Billy, distance, Blocks)"
   ]
  },
  {
   "cell_type": "code",
   "execution_count": null,
   "metadata": {
    "collapsed": true
   },
   "outputs": [],
   "source": []
  }
 ],
 "metadata": {
  "kernelspec": {
   "display_name": "Python 2",
   "language": "python",
   "name": "python2"
  },
  "language_info": {
   "codemirror_mode": {
    "name": "ipython",
    "version": 2
   },
   "file_extension": ".py",
   "mimetype": "text/x-python",
   "name": "python",
   "nbconvert_exporter": "python",
   "pygments_lexer": "ipython2",
   "version": "2.7.11"
  },
  "widgets": {
   "state": {},
   "version": "1.1.2"
  }
 },
 "nbformat": 4,
 "nbformat_minor": 1
}
